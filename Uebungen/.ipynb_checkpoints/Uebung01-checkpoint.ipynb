{
 "cells": [
  {
   "cell_type": "markdown",
   "metadata": {},
   "source": [
    "# Data Mining in der technischen Anwendung\n",
    "## Übungsblatt 01"
   ]
  },
  {
   "cell_type": "markdown",
   "metadata": {
    "collapsed": true
   },
   "source": [
    "### Aufgabe 1: Python - allererste Schritte"
   ]
  },
  {
   "cell_type": "markdown",
   "metadata": {},
   "source": [
    "**Vektoren und Matrizen:**"
   ]
  },
  {
   "cell_type": "markdown",
   "metadata": {},
   "source": [
    "Um einen Vektor zu erzeugen, werden Numpy-Arrays verwendet:"
   ]
  },
  {
   "cell_type": "code",
   "execution_count": 5,
   "metadata": {
    "collapsed": true
   },
   "outputs": [],
   "source": [
    "import numpy as np\n",
    "\n",
    "#Erzeugt Numpy-Arrays aus den in eckigen Klammern erstellten Listen:\n",
    "x = np.array([2, 4])\n",
    "y = np.array([5, 1])"
   ]
  },
  {
   "cell_type": "markdown",
   "metadata": {},
   "source": [
    "Der Inhalt dieser Arrays lässt sich mithilfe des *print()*-Befehls anzeigen:"
   ]
  },
  {
   "cell_type": "code",
   "execution_count": 4,
   "metadata": {},
   "outputs": [
    {
     "name": "stdout",
     "output_type": "stream",
     "text": [
      "x = [2 4]\n",
      "y = [5 1]\n"
     ]
    }
   ],
   "source": [
    "#gibt den Inhalt der beiden Vektoren x und y aus\n",
    "print(\"x =\", x)\n",
    "print(\"y =\", y)"
   ]
  },
  {
   "cell_type": "markdown",
   "metadata": {},
   "source": [
    "Auf einen bestimmten Wert kann über den Index innerhalb der eckigen Klammern zugegriffen werden. Dabei ist zu beachten, dass der erste Eintrag mit dem Index 0 ausgewählt wird."
   ]
  },
  {
   "cell_type": "code",
   "execution_count": 6,
   "metadata": {},
   "outputs": [
    {
     "name": "stdout",
     "output_type": "stream",
     "text": [
      "Der erste Eintrag des Vektors x = 2\n",
      "Der zweite Eintrag des Vektors y = 1\n"
     ]
    }
   ],
   "source": [
    "print(\"Der erste Eintrag des Vektors x =\", x[0])\n",
    "print(\"Der zweite Eintrag des Vektors y =\", y[1])"
   ]
  },
  {
   "cell_type": "markdown",
   "metadata": {},
   "source": [
    "Um Matrizen zu erzeugen, können mehrere Listen ineinander verschachtelt werden:"
   ]
  },
  {
   "cell_type": "code",
   "execution_count": 7,
   "metadata": {},
   "outputs": [
    {
     "name": "stdout",
     "output_type": "stream",
     "text": [
      "M =\n",
      " [[1 4]\n",
      " [3 7]]\n",
      "\n",
      "N =\n",
      " [[3 1]\n",
      " [4 5]]\n"
     ]
    }
   ],
   "source": [
    "#erzeugt 2*2-Matrizen aus Numpy-Arrays\n",
    "M = np.array([[1, 4],[3, 7]])\n",
    "N = np.array([[3, 1], [4, 5]])\n",
    "\n",
    "print(\"M =\\n\", M)\n",
    "print()\n",
    "print(\"N =\\n\", N)"
   ]
  },
  {
   "cell_type": "markdown",
   "metadata": {},
   "source": [
    "Matrizen können auch mithilfe von *numpy* erzeugt oder aus bestehenden Listen konvertiert werden:"
   ]
  },
  {
   "cell_type": "markdown",
   "metadata": {},
   "source": [
    "Konvertiert den Vektor x in eine Matrix **A**:"
   ]
  },
  {
   "cell_type": "code",
   "execution_count": 8,
   "metadata": {},
   "outputs": [
    {
     "name": "stdout",
     "output_type": "stream",
     "text": [
      "A =\n",
      " [[2 4]]\n"
     ]
    }
   ],
   "source": [
    "A = np.asmatrix(x)\n",
    "\n",
    "print(\"A =\\n\", A)"
   ]
  },
  {
   "cell_type": "markdown",
   "metadata": {},
   "source": [
    "Erzeugt aus dem Vektor y eine neue Matrix **B**:"
   ]
  },
  {
   "cell_type": "code",
   "execution_count": 6,
   "metadata": {},
   "outputs": [
    {
     "name": "stdout",
     "output_type": "stream",
     "text": [
      "B =\n",
      " [[5 1]]\n"
     ]
    }
   ],
   "source": [
    "B = np.matrix(y)\n",
    "\n",
    "print(\"B =\\n\", B)"
   ]
  },
  {
   "cell_type": "markdown",
   "metadata": {},
   "source": [
    "Erzeugt eine neue Matrix **C** mit den angegeben Einträgen:"
   ]
  },
  {
   "cell_type": "code",
   "execution_count": 7,
   "metadata": {},
   "outputs": [
    {
     "name": "stdout",
     "output_type": "stream",
     "text": [
      "C =\n",
      " [[1 2]\n",
      " [3 4]]\n"
     ]
    }
   ],
   "source": [
    "C = np.matrix([[1, 2], [3, 4]])\n",
    "\n",
    "print(\"C =\\n\", C)"
   ]
  },
  {
   "cell_type": "markdown",
   "metadata": {},
   "source": [
    "**Funktionen:**"
   ]
  },
  {
   "cell_type": "markdown",
   "metadata": {},
   "source": [
    "Funktionen werden mithilfe von *def* eingeleitet:"
   ]
  },
  {
   "cell_type": "code",
   "execution_count": 8,
   "metadata": {
    "collapsed": true
   },
   "outputs": [],
   "source": [
    "#Erzeugt eine Funktion \"add\", welche zwei Parameter addiert und sie Summe ausgibt\n",
    "def add(a, b):\n",
    "    return a + b"
   ]
  },
  {
   "cell_type": "markdown",
   "metadata": {},
   "source": [
    "Um die Funktion zu verwenden, wird sie mit den gewünschten Parametern aufgerufen:"
   ]
  },
  {
   "cell_type": "code",
   "execution_count": 9,
   "metadata": {},
   "outputs": [
    {
     "data": {
      "text/plain": [
       "9"
      ]
     },
     "execution_count": 9,
     "metadata": {},
     "output_type": "execute_result"
    }
   ],
   "source": [
    "add(4, 5)"
   ]
  },
  {
   "cell_type": "markdown",
   "metadata": {},
   "source": [
    "mithilfe von *lambda* können auch anonyme Funktionen erzeugt werden:"
   ]
  },
  {
   "cell_type": "code",
   "execution_count": 10,
   "metadata": {},
   "outputs": [
    {
     "data": {
      "text/plain": [
       "7"
      ]
     },
     "execution_count": 10,
     "metadata": {},
     "output_type": "execute_result"
    }
   ],
   "source": [
    "#addiert ebenfalls zwei Parameter und gibt die Summe zurück\n",
    "add2 = lambda a, b : a+b\n",
    "\n",
    "add2(3, 4)"
   ]
  },
  {
   "cell_type": "markdown",
   "metadata": {},
   "source": [
    "$a)$\n",
    "Erarbeiten Sie sich die grundlegenden Funktionen zur Bibliothek *numpy* mit Hilfe eines frei gewählten Tutorials (z.B. http://www.python-kurs.eu/numpy.php).\n",
    "\n",
    "\n",
    "Viele weitere Befehle sind auch z.B. auf\n",
    "https://docs.scipy.org/doc/numpy-1.13.0/reference/routines.linalg.html zu finden."
   ]
  },
  {
   "cell_type": "markdown",
   "metadata": {},
   "source": [
    "### Aufgabe 2: Python - Fingerübungen"
   ]
  },
  {
   "cell_type": "markdown",
   "metadata": {},
   "source": [
    "$a)$ Legen Sie einen Vektor $\\mathbf{a}$ an, der drei beliebige von Ihnen gewählte Werte enthält und multiplizieren Sie ihn mit einem beliebigen Skalar $\\alpha \\in \\mathbb{R}\\setminus 0$. Legen Sie das Ergebnis in einem weiteren Vektor $\\mathbf{b}$ ab."
   ]
  },
  {
   "cell_type": "code",
   "execution_count": 9,
   "metadata": {},
   "outputs": [
    {
     "ename": "AttributeError",
     "evalue": "module 'numpy' has no attribute 'vector'",
     "output_type": "error",
     "traceback": [
      "\u001b[1;31m---------------------------------------------------------------------------\u001b[0m",
      "\u001b[1;31mAttributeError\u001b[0m                            Traceback (most recent call last)",
      "\u001b[1;32m<ipython-input-9-a92d38b0fc48>\u001b[0m in \u001b[0;36m<module>\u001b[1;34m()\u001b[0m\n\u001b[1;32m----> 1\u001b[1;33m \u001b[0ma\u001b[0m \u001b[1;33m=\u001b[0m \u001b[0mnp\u001b[0m\u001b[1;33m.\u001b[0m\u001b[0mvector\u001b[0m\u001b[1;33m(\u001b[0m\u001b[1;33m)\u001b[0m\u001b[1;33m\u001b[0m\u001b[0m\n\u001b[0m",
      "\u001b[1;31mAttributeError\u001b[0m: module 'numpy' has no attribute 'vector'"
     ]
    }
   ],
   "source": [
    "a = np.vector()"
   ]
  },
  {
   "cell_type": "markdown",
   "metadata": {},
   "source": [
    "$b)$ Berechnen Sie das Skalarprodukt der Vektoren $\\mathbf{a}$ und $\\mathbf{b}$ und legen Sie das Ergebnis in einem Vektor $\\mathbf{s}$ ab."
   ]
  },
  {
   "cell_type": "code",
   "execution_count": null,
   "metadata": {
    "collapsed": true
   },
   "outputs": [],
   "source": []
  },
  {
   "cell_type": "markdown",
   "metadata": {},
   "source": [
    "$c)$ Berechnen Sie das elementweise Produkt der Vektoren $\\mathbf{a}$ und $\\mathbf{b}$ und legen Sie das Ergebnis in einem Vektor $\\mathbf{e}$ ab."
   ]
  },
  {
   "cell_type": "code",
   "execution_count": null,
   "metadata": {
    "collapsed": true
   },
   "outputs": [],
   "source": []
  },
  {
   "cell_type": "markdown",
   "metadata": {},
   "source": [
    "$d)$ Berechnen Sie das äußere Produkt der Vektoren $\\mathbf{a}$ und $\\mathbf{b}$ und legen Sie das Ergebnis in einem Vektor $\\mathbf{o}$ ab."
   ]
  },
  {
   "cell_type": "code",
   "execution_count": null,
   "metadata": {
    "collapsed": true
   },
   "outputs": [],
   "source": []
  },
  {
   "cell_type": "markdown",
   "metadata": {},
   "source": [
    "$e)$ Aus der folgenden zufällig generierten 5x5 Matrix sollen folgende Teile ausgegeben werden (hier Indizes 1-basiert, der Eintrag in der 1-ten Zeile und 1-ten Spalte ist der erste oben links):\n",
    "1. den Eintrag in der 2-ten Zeile und 4-ten Spalte\n",
    "2. eine Matrix, die den Eintrag in der 4-ten Zeile und 2-ten Spalte enthält\n",
    "3. die dritte Spalte\n",
    "4. die letzte Zeile\n",
    "5. die Spalten 3 und 4\n",
    "6. die Spalten 2,4,5\n",
    "7. die untere, linke 3x3 Untermatrix (3-te bis 5-te Zeile und 1-te bis 3-te Spalte)"
   ]
  },
  {
   "cell_type": "code",
   "execution_count": null,
   "metadata": {
    "collapsed": true
   },
   "outputs": [],
   "source": []
  },
  {
   "cell_type": "markdown",
   "metadata": {},
   "source": [
    "1) Eintrag in der 2-ten Zeile und 4-ten Spalte"
   ]
  },
  {
   "cell_type": "code",
   "execution_count": null,
   "metadata": {
    "collapsed": true
   },
   "outputs": [],
   "source": []
  },
  {
   "cell_type": "markdown",
   "metadata": {},
   "source": [
    "2) Matrix, die den Eintrag in der 4-ten Zeile und 2-ten Spalte enthält"
   ]
  },
  {
   "cell_type": "code",
   "execution_count": null,
   "metadata": {
    "collapsed": true
   },
   "outputs": [],
   "source": []
  },
  {
   "cell_type": "markdown",
   "metadata": {},
   "source": [
    "3) Dritte Spalte"
   ]
  },
  {
   "cell_type": "code",
   "execution_count": null,
   "metadata": {
    "collapsed": true
   },
   "outputs": [],
   "source": []
  },
  {
   "cell_type": "markdown",
   "metadata": {},
   "source": [
    "4) Letzte Zeile"
   ]
  },
  {
   "cell_type": "code",
   "execution_count": null,
   "metadata": {
    "collapsed": true
   },
   "outputs": [],
   "source": []
  },
  {
   "cell_type": "markdown",
   "metadata": {},
   "source": [
    "5) Spalten 3 und 4"
   ]
  },
  {
   "cell_type": "code",
   "execution_count": null,
   "metadata": {
    "collapsed": true
   },
   "outputs": [],
   "source": []
  },
  {
   "cell_type": "markdown",
   "metadata": {},
   "source": [
    "6) Spalten 2,4,5"
   ]
  },
  {
   "cell_type": "code",
   "execution_count": null,
   "metadata": {
    "collapsed": true
   },
   "outputs": [],
   "source": []
  },
  {
   "cell_type": "markdown",
   "metadata": {},
   "source": [
    "7) Untere, linke 3x3 Untermatrix"
   ]
  },
  {
   "cell_type": "code",
   "execution_count": null,
   "metadata": {
    "collapsed": true
   },
   "outputs": [],
   "source": []
  },
  {
   "cell_type": "markdown",
   "metadata": {},
   "source": [
    "### Aufgabe 3: Weitere Übungen"
   ]
  },
  {
   "cell_type": "markdown",
   "metadata": {},
   "source": [
    "$a)$\n",
    "Erarbeiten Sie sich weitere grundlegende Kenntnisse z.B. mithilfe der Python Tutorials auf https://www.python-kurs.eu/python3_kurs.php\n",
    "\n",
    "$b)$\n",
    "Machen Sie sich mit den folgenden Konventionen für Formeln und für das \"Übersetzen in Python\" vertraut:\n",
    "\n",
    "- Sprechen wir in Formeln von Matrizen, dann schreiben wir sie als fett gedruckte Großbuchstaben ($\\mathbf{A}$, $\\mathbf{B}$, $\\ldots$) oder in fett gedrucktem UpperCamelCase  ($\\mathbf{EineMatrix}$, $\\mathbf{NochEineMatrix}$, $\\ldots$). \n",
    "\n",
    "\n",
    "- Wenn wir in Formeln von Vektoren sprechen, dann schreiben wir sie als fett gedruckte Kleinbuchstaben ($\\mathbf{a}$, $\\mathbf{b}$, $\\ldots$) oder in fett gedrucktem lowerCamelCase ($\\mathbf{einVektor}$, $\\mathbf{nochEinVektor}$, $\\ldots$).\n",
    "\n",
    "\n",
    "- Skalare bezeichnen wir in Formeln mit lateinischen kursiven, nicht-fetten Kleinbuchstaben ($a$, $b$, $\\ldots$) oder lowerCamelCase ($einSkalar$, $nochEinSkalar$, $\\ldots$) oder griechischen Kleinbuchstaben ($\\alpha$, $\\beta$, $\\ldots$).\n",
    "\n",
    "\n",
    "- Mengen werden in Formeln mit kursiven, nicht-fetten Großbuchstaben ($A$, $B$, $\\ldots$) bzw. in entsprechender Upper\\-Camel\\-Case-Schreibweise ($EineMenge$, $NochEineMenge$, $\\dots$) notiert.\n",
    "\n",
    "\n",
    "- Übersetzen Sie diese Notation in Python, indem Sie Schriftauszeichnungen (fett, kursiv) ignorieren und griechische Buchstaben lateinisch ausschreiben ($\\omega$ wird zu $omega$ und $\\Omega$ wird zu $Omega$)."
   ]
  }
 ],
 "metadata": {
  "kernelspec": {
   "display_name": "Python 3",
   "language": "python",
   "name": "python3"
  },
  "language_info": {
   "codemirror_mode": {
    "name": "ipython",
    "version": 3
   },
   "file_extension": ".py",
   "mimetype": "text/x-python",
   "name": "python",
   "nbconvert_exporter": "python",
   "pygments_lexer": "ipython3",
   "version": "3.6.3"
  }
 },
 "nbformat": 4,
 "nbformat_minor": 2
}
