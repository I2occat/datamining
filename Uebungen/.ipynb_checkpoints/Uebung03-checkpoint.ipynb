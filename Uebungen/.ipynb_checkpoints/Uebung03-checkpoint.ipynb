{
 "cells": [
  {
   "cell_type": "markdown",
   "metadata": {},
   "source": [
    "# Data Mining in der technischen Anwendung\n",
    "## Übungsblatt 03"
   ]
  },
  {
   "cell_type": "code",
   "execution_count": 19,
   "metadata": {
    "collapsed": true
   },
   "outputs": [],
   "source": [
    "import matplotlib.pyplot as plt\n",
    "import numpy as np\n",
    "import pandas as pd\n",
    "from sklearn import linear_model\n",
    "from sklearn.preprocessing import PolynomialFeatures"
   ]
  },
  {
   "cell_type": "markdown",
   "metadata": {},
   "source": [
    "### Aufgabe 1: Lineare Regression"
   ]
  },
  {
   "cell_type": "markdown",
   "metadata": {},
   "source": [
    "In dieser Aufgabe sollen Sie sich näher mit linearer Regression befassen. Gegeben sind *m* Datenpunkte im $\\mathbb{R^2}$ (siehe Tabelle 1) und das allgemeine lineare Regressionsmodell: $y_0 = a_0 + a_1*x_1$ für i = 1 $\\ldots$ m\n",
    "\n",
    "|**x**|**y**|\n",
    "| --- | --- |\n",
    "|  1  |  2  |\n",
    "|  2  |  4  |    \n",
    "|  3  |  2  |\n",
    "|  4  |  3  |\n",
    "|  5  |  5  |\n",
    "|  6  |  7  |\n",
    "|  7  |  4  |\n",
    "|  8  |  9  |\n",
    "|  9  |  7  |"
   ]
  },
  {
   "cell_type": "markdown",
   "metadata": {},
   "source": [
    "$a)$ Stellen Sie die zu minimierende Funktion (bzgl. des euklidischen Fehlermaßes) auf, um die Regressionsgerade auf den oben angegebenen Punkten zu finden."
   ]
  },
  {
   "cell_type": "raw",
   "metadata": {},
   "source": [
    "\\norm"
   ]
  },
  {
   "cell_type": "markdown",
   "metadata": {},
   "source": [
    "$b)$ Geben Sie als Lösung eine allgemeine Gleichung zur Bestimmung der Regressionsgerade im $\\mathbb{R}^2$ an (mit Rechenweg). Lösen Sie daraufhin für die gegebenen Werte (siehe Tabelle) das Minimierungsproblem."
   ]
  },
  {
   "cell_type": "markdown",
   "metadata": {},
   "source": []
  },
  {
   "cell_type": "markdown",
   "metadata": {},
   "source": [
    "$c)$ Wie groß ist der Trainingsfehler, den Ihr lineares Modell macht?"
   ]
  },
  {
   "cell_type": "code",
   "execution_count": 23,
   "metadata": {
    "collapsed": true
   },
   "outputs": [],
   "source": [
    "# Hier den Code zur Berechnung des Fehlers einfuegen"
   ]
  },
  {
   "cell_type": "markdown",
   "metadata": {},
   "source": [
    "$d)$ Geben Sie eine Laufzeit-Abschätzung für die Berechnung des linearen Modells an."
   ]
  },
  {
   "cell_type": "markdown",
   "metadata": {},
   "source": [
    "Komplexitätsklasse entspricht ..."
   ]
  },
  {
   "cell_type": "markdown",
   "metadata": {
    "collapsed": true
   },
   "source": [
    "### Aufgabe 2: Lineare Regression mit Python"
   ]
  },
  {
   "cell_type": "markdown",
   "metadata": {
    "collapsed": true
   },
   "source": [
    "**Führen Sie auf Grundlage des Datensatzes aus Aufgabe 1 eine lineare Regression mit Hilfe von Python durch und überprüfen Sie ihr zuvor gefundenes Modell auf Korrektheit.**"
   ]
  },
  {
   "cell_type": "markdown",
   "metadata": {},
   "source": [
    "$a)$ Importieren Sie den Datensatz *LinReg.csv* wie üblich aus ihrem *data*-Ordner."
   ]
  },
  {
   "cell_type": "code",
   "execution_count": null,
   "metadata": {
    "collapsed": true
   },
   "outputs": [],
   "source": [
    "# Hier den Sourcode einfuegen"
   ]
  },
  {
   "cell_type": "markdown",
   "metadata": {},
   "source": [
    "$b)$ Lesen Sie z.B. unter http://scikit-learn.org/stable/auto_examples/linear_model/plot_ols.html nach wie eine Lineare Regression mit Python zu realisieren ist und führen Sie diese mit den Daten des LinReg Datensatzes durch."
   ]
  },
  {
   "cell_type": "code",
   "execution_count": null,
   "metadata": {
    "collapsed": true
   },
   "outputs": [],
   "source": [
    "# Hier den Sourcode einfuegen"
   ]
  },
  {
   "cell_type": "markdown",
   "metadata": {},
   "source": [
    "$c)$ Werten Sie das gelernte Modell anhand des Datensatzes aus. Berechnen Sie folgende Kennwerte:\n",
    "1. root mean squared error\n",
    "2. absolute error\n",
    "3. relative error\n",
    "4. correlation"
   ]
  },
  {
   "cell_type": "markdown",
   "metadata": {},
   "source": [
    "Kennwerte:"
   ]
  },
  {
   "cell_type": "code",
   "execution_count": null,
   "metadata": {
    "collapsed": true
   },
   "outputs": [],
   "source": [
    "# Hier den Sourcode einfuegen"
   ]
  },
  {
   "cell_type": "markdown",
   "metadata": {},
   "source": [
    "$d)$ Visualisieren Sie die Regressionsgerade und passen Sie die Achsenlimits entsprechend an die Enthaltenen Werte an:"
   ]
  },
  {
   "cell_type": "code",
   "execution_count": null,
   "metadata": {
    "collapsed": true
   },
   "outputs": [],
   "source": [
    "# Hier den Sourcode einfuegen"
   ]
  },
  {
   "cell_type": "markdown",
   "metadata": {
    "collapsed": true
   },
   "source": [
    "## Aufgabe 3:"
   ]
  },
  {
   "cell_type": "markdown",
   "metadata": {},
   "source": [
    "Eine polynomiale Regression stellt eine Spezialform einer linearen Regression dar, in welcher der Zusammenhang zwischen den $\\textbf{x}$-Werten und $\\textbf{y}$ mittels eines Polynoms *n*-ter Ordnung modelliert wird. Gegeben seien wiederum $m$ Datenpunkte und gesucht ist somit ein Polynom $p(x)$ mit Grad $n < m-1$, so dass der quadratische Fehler \n",
    "$ \\sum_{i=0}^m {p((x_i)-y_i)}^2$ minimal wird. Die unbekannten Koeffizienten $a_0,a_1,\\cdots,a_n$ des entsprechenden linearen Modells\n",
    "$y_i = a_0 + a_1*x_i + a_2*x_i^2 + a_3*x_i^3 + \\cdots + a_n*x_i^n$ mit $i=1..m$, können mit Hilfe eines Least-Squares-Ansatzes gefunden werden. Hierzu muss das Modell als ein System von linearen Gleichungen geschrieben werden (Matrixschreibweise $\\textbf{y} = \\textbf{X} * \\textbf{a}$):\n",
    "\n",
    "$\\underbrace{\\begin {bmatrix} y_1 \\\\ y_2 \\\\ \\vdots \\\\ y_m \\end{bmatrix}}_{\\textbf{y}} = \\underbrace{\\begin{bmatrix} 1 & x_1 & x_1 ^ 2 & \\dots & x_1 ^ n \\\\ 1 & x_2 & x_2^2 & \\dots & x_2^n \\\\ \\vdots & \\vdots & \\vdots & & \\vdots \\\\ 1 & x_m & x_m^2 & \\dots & x_m^n \\end{bmatrix}}_{\\textbf{X}} * \\underbrace{\\begin{bmatrix} a_0 \\\\ a_1 \\\\ a_2 \\\\ \\vdots \\\\ a_n \\end{bmatrix}}_{\\textbf{a}}$ \n",
    "\n",
    "Der kleinste-Quadrate-Ansatz fährt so zu einem linearem Ausgleichsproblem der Form $\\min_{\\textbf{a}}||\\textbf{X}*\\textbf{a} - \\textbf{y}||^{2}$.\n",
    "\n",
    "In Python können Sie die polynomiale Regression durchführen, indem Sie die Matrix für die lineare Regression um die entsprechenden Polynome erweitern.\n",
    "\n",
    "Zum Testen Ihres Modells verwenden Sie die Datensätze *PolyReg.csv* und *PolyReg2.csv*, die sie in ihren *data*-Ordner kopieren. Beantworten Sie nachfolgende Fragen:\n",
    "\n",
    "1. Welche Kennwerte(RMSE, abs. Fehler,...) liefert das polynomielle Modell bei einem Polynomgrad von $n=1$ auf den zwei Datensätzen?\n",
    "2. Variieren Sie den Polynomgrad um für jeden der zwei Datensätze den \"am besten passenden\" Polynomgrad, im Sinne der Kennwerte, zu ermitteln. Begründen Sie Ihre Entscheidung. Erweitern Sie die Methode aus $3.1$ nach Möglichkeit zu einer Funktion, damit sie möglichst einfach die Koeffizienten für höhere Grade bestimmen können.\n",
    "3. Zusatzfrage: Warum stellt ein polynomiales Regressionsmodell ein lineares Modell dar?"
   ]
  },
  {
   "cell_type": "code",
   "execution_count": 24,
   "metadata": {
    "collapsed": true
   },
   "outputs": [],
   "source": [
    "# Hier den Sourcode einfuegen fuer 3.1"
   ]
  },
  {
   "cell_type": "code",
   "execution_count": null,
   "metadata": {
    "collapsed": true
   },
   "outputs": [],
   "source": [
    "# Hier den Sourcode einfuegen fuer 3.2"
   ]
  },
  {
   "cell_type": "markdown",
   "metadata": {},
   "source": [
    "$3.3:$ Ein polynomiale Regression entspricht einem linearen Modell, da ..."
   ]
  }
 ],
 "metadata": {
  "kernelspec": {
   "display_name": "Python 3",
   "language": "python",
   "name": "python3"
  },
  "language_info": {
   "codemirror_mode": {
    "name": "ipython",
    "version": 3
   },
   "file_extension": ".py",
   "mimetype": "text/x-python",
   "name": "python",
   "nbconvert_exporter": "python",
   "pygments_lexer": "ipython3",
   "version": "3.6.3"
  },
  "varInspector": {
   "cols": {
    "lenName": 16,
    "lenType": 16,
    "lenVar": 40
   },
   "kernels_config": {
    "python": {
     "delete_cmd_postfix": "",
     "delete_cmd_prefix": "del ",
     "library": "var_list.py",
     "varRefreshCmd": "print(var_dic_list())"
    },
    "r": {
     "delete_cmd_postfix": ") ",
     "delete_cmd_prefix": "rm(",
     "library": "var_list.r",
     "varRefreshCmd": "cat(var_dic_list()) "
    }
   },
   "types_to_exclude": [
    "module",
    "function",
    "builtin_function_or_method",
    "instance",
    "_Feature"
   ],
   "window_display": false
  }
 },
 "nbformat": 4,
 "nbformat_minor": 2
}
