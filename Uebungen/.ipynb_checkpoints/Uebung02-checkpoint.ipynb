{
 "cells": [
  {
   "cell_type": "markdown",
   "metadata": {},
   "source": [
    "# Data Mining in der technischen Anwendung\n",
    "## Übungsblatt 02"
   ]
  },
  {
   "cell_type": "markdown",
   "metadata": {},
   "source": [
    "### Aufgabe 1: Einrichten von Anaconda"
   ]
  },
  {
   "cell_type": "markdown",
   "metadata": {},
   "source": [
    "Wir werden im Laufe des Kurses mit Jupyter Notebooks arbeiten.\n",
    "\n",
    "#### Installation Anaconda:\n",
    "\n",
    "Sie finden auf ihrem Desktop eine Datei zur Installation von Anaconda (./start_anaconda.sh). Starten Sie diese und folgen Sie den Installationsanweisungen.\n",
    "Schließen und öffnen Sie die Konsole und geben Sie anschließend den Befehl \"anaconda-navigator\" ein. Daraufhin sollte sich der Anaconda Navigator öffnen, mit dem Sie Jupyter installieren und anschließend Starten können.\n",
    "\n",
    "Für die Installation auf ihrem eigenen PC laden Sie sich die Python 3.6 Version über https://www.anaconda.com/download/#linux und folgen Sie den Anweisungen bzw. der Anleitung https://docs.anaconda.com/anaconda/install/linux"
   ]
  },
  {
   "cell_type": "markdown",
   "metadata": {
    "collapsed": true
   },
   "source": [
    "### Aufgabe 2:"
   ]
  },
  {
   "cell_type": "markdown",
   "metadata": {},
   "source": [
    "$a)$\n",
    "Laden Sie die Datei *Iris.csv* aus Moodle herunter und kopieren Sie den Datensatz in ihren *data* Ordner.\n",
    "\n",
    "Der Datensatz enthält 150 Messungen der Pflanzengattung Iris(Schwertlilie), der in 3 Gattungen mit jeweils 50 Messungen aufgeteilt ist. Anhand von 4 Attributen können diese Gattungen mit einem Klassifikationsverfahren getrennt werden und unbekannte Messungen identifiziert werden.\n",
    "\n",
    "Mithilfe des nachfolgenden Codes sollte sich ein *Scatter Plot* öffnen, der den Datensatz und seine verschiedenen Klassen anzeigt."
   ]
  },
  {
   "cell_type": "code",
   "execution_count": 1,
   "metadata": {
    "collapsed": true
   },
   "outputs": [],
   "source": [
    "import numpy as np\n",
    "import pandas as pd\n",
    "import matplotlib.pyplot as plt\n",
    "import matplotlib.patches as mpatches\n",
    "import itertools\n",
    "from collections import Counter\n",
    "\n",
    "from ipywidgets import interact\n",
    "from sklearn.metrics import confusion_matrix\n",
    "from sklearn.model_selection import train_test_split\n",
    "from sklearn import tree\n",
    "from sklearn import svm\n",
    "from sklearn.ensemble import BaggingClassifier\n",
    "\n",
    "%matplotlib inline"
   ]
  },
  {
   "cell_type": "code",
   "execution_count": 2,
   "metadata": {
    "collapsed": true
   },
   "outputs": [],
   "source": [
    "#Importieren des Iris-Datensatzes\n",
    "iris = pd.read_csv('data/Iris.csv', sep=';', )\n",
    "iris.rename(columns = {'class':'label'}, inplace = True)"
   ]
  },
  {
   "cell_type": "code",
   "execution_count": 3,
   "metadata": {
    "collapsed": true
   },
   "outputs": [],
   "source": [
    "def iris_plot(x_variable, y_variable):\n",
    "    groups = iris.groupby('label')\n",
    "    fig, ax = plt.subplots()\n",
    "    \n",
    "    for name, group in groups:\n",
    "        ax.plot(group[x_variable], group[y_variable], marker='o', linestyle='', ms=5, label=name)\n",
    "    \n",
    "    ax.legend()\n",
    "    plt.xlabel(x_variable)\n",
    "    plt.ylabel(y_variable)\n",
    "    plt.show()"
   ]
  },
  {
   "cell_type": "markdown",
   "metadata": {},
   "source": [
    "Trennen Sie nun die Klassen im Scatter Plot, indem Sie die geplotteten Attribute für die X und Y-Achse geeignet wählen."
   ]
  },
  {
   "cell_type": "code",
   "execution_count": 5,
   "metadata": {},
   "outputs": [
    {
     "data": {
      "application/vnd.jupyter.widget-view+json": {
       "model_id": "39d2fc31d1904338b9170a18fd69b225",
       "version_major": 2,
       "version_minor": 0
      },
      "text/plain": [
       "A Jupyter Widget"
      ]
     },
     "metadata": {},
     "output_type": "display_data"
    }
   ],
   "source": [
    "interact(iris_plot, \n",
    "         x_variable=iris.columns[0:4], \n",
    "         y_variable=iris.columns[0:4]);"
   ]
  },
  {
   "cell_type": "markdown",
   "metadata": {},
   "source": [
    "$b)$\n",
    "Im Folgenden soll der Classification Learner trainiert werden, indem Sie das Lernverfahren *Decision Tree* anwenden.\n",
    "Der Classification Learner teilt den Datensatz in Trainings- und Testdatensätze auf und kann somit die Güte des Trainings bestimmen. Wie der Datensatz aufgeteilt wird, lässt sich über den Parameter *fold_param* einstellen. Standardmäßig sind 3 folds eingestellt.\n",
    "\n",
    "Bei der Kreuzvalidierung wird der Datensatz in *k* möglichst gleich große Teilmengen aufgeteilt. Anschließend wird *k*-mal trainiert und getestet, wobei immer eine Teilmenge zum Testen verwendet wird und die restlichen Teilmengen zum Trainieren verwendet werden.  \n",
    "\n",
    "Schauen Sie sich anschließend die *Confusion Matrix* an, welche prädizierte und tatsächliche Klassen gegenüberstellt. In den Spalten stehe die prädizierten Klassen und in den Zeilen die tatsächlichen Klassen. Findet sich bspw. ein Eintrag in der Spalte *Iris-versicolor* und der Zeile *Iris-virginica*, bedeutet dies, dass eine Prädiktion die Klasse *Iris-versicolor* vorhergesagt hat, tatsächlich aber die Klasse *Iris-virginica* vorlag."
   ]
  },
  {
   "cell_type": "code",
   "execution_count": 7,
   "metadata": {
    "collapsed": true
   },
   "outputs": [],
   "source": [
    "def confusion_matrix_plot(cm, classes, title):\n",
    "\n",
    "    plt.imshow(cm, interpolation='nearest', cmap=plt.cm.Greys)\n",
    "    plt.title(title)\n",
    "    plt.colorbar()\n",
    "    \n",
    "    tick_marks = np.arange(len(classes))\n",
    "    plt.xticks(tick_marks, classes, rotation=45)\n",
    "    plt.yticks(tick_marks, classes, rotation=45)\n",
    "\n",
    "    thresh = cm.max() / 2.\n",
    "    for i, j in itertools.product(range(cm.shape[0]), range(cm.shape[1])):\n",
    "        plt.text(j, i, format(cm[i, j]),\n",
    "                 horizontalalignment=\"center\",\n",
    "                 color=\"white\" if cm[i, j] > thresh else \"black\")\n",
    "\n",
    "    plt.ylabel('tatsächliche Klasse')\n",
    "    plt.xlabel('prädizierte Klasse')\n",
    "    plt.show()"
   ]
  },
  {
   "cell_type": "code",
   "execution_count": 8,
   "metadata": {},
   "outputs": [
    {
     "data": {
      "image/png": "[encoded data removed]",
      "text/plain": [
       "<matplotlib.figure.Figure at 0x21ffd7cb5f8>"
      ]
     },
     "metadata": {},
     "output_type": "display_data"
    }
   ],
   "source": [
    "#Anteil der Daten, die für den Test verwendet werden\n",
    "folds = 0.33\n",
    "\n",
    "#Matrix der auswertbaren Daten\n",
    "X = iris.values[:,:4]\n",
    "\n",
    "#Vektor der tatsächlichen Klassen, codiert\n",
    "y = iris.label\n",
    "\n",
    "#Bezeichnungen der Klassen\n",
    "class_names = np.asarray(['setosa', 'versicolor', 'virginica'])\n",
    "\n",
    "#Aufteilung der Daten in Test- und Trainingsdatensätze\n",
    "X_train, X_test, y_train, y_test = train_test_split(X, y, test_size = folds)\n",
    "\n",
    "#Wahl des Klassifikators\n",
    "classifier = tree.DecisionTreeClassifier()\n",
    "classifier = classifier.fit(X_train, y_train)\n",
    "y_pred = classifier.predict(X_test)\n",
    "\n",
    "#Erstellung der Confusion-Matrix\n",
    "cnf_matrix = confusion_matrix(y_test, y_pred)\n",
    "\n",
    "#Graphische Darstellung der Confusion-Matrix\n",
    "confusion_matrix_plot(cnf_matrix, classes=class_names, title=\"Iris\")"
   ]
  },
  {
   "cell_type": "markdown",
   "metadata": {},
   "source": [
    "Beantworten Sie nun folgende Fragen:\n",
    "\n",
    "1. Wieviele Muster werden falsch klassifiziert?\n",
    "2. Welches Label besitzen diese Muster?\n",
    "3. Wie groß ist der Klassifikationsfehler des Decision Trees?\n",
    "4. Welche zwei Klassen sind schwerer voneinander zu trennen? Warum?\n",
    "5. Starten Sie eine neue Session mit gleichen Parametern und Daten, erhalten Sie nicht notwendigerweise das gleiche Ergebnis nach dem Trainieren. Woran liegt das?\n",
    "\n",
    "\n",
    "Sie können weiterhin andere Parameter oder Verfahren testen."
   ]
  },
  {
   "cell_type": "markdown",
   "metadata": {},
   "source": [
    "$c)$\n",
    "Laden Sie sich den Datensatz *labor-negotiations* von Moodle. Der Datensatz enthält unvollständige Informationen über Arbeitsverhältnisse mit Attributen wie der Dauer der Beschäftigung, der Gehaltserhöung im ersten, zweiten und dritten Arbeitsjahr oder der genommenen Urlaubstage.\n",
    "\n",
    "\n",
    "1. Welche Ausprägung des Attributes *vacation* tritt im Datensatz am häufigsten auf? \n",
    "2. Wie heißen die beiden Klassen des Datensatzes?"
   ]
  },
  {
   "cell_type": "code",
   "execution_count": 11,
   "metadata": {
    "collapsed": true
   },
   "outputs": [],
   "source": [
    "labor_neg = pd.read_csv('data/labor-negotiations.csv', sep=\";\")\n",
    "labor_neg.rename(columns = {'class':'label'}, inplace = True)"
   ]
  },
  {
   "cell_type": "code",
   "execution_count": null,
   "metadata": {
    "collapsed": true
   },
   "outputs": [],
   "source": []
  },
  {
   "cell_type": "code",
   "execution_count": null,
   "metadata": {
    "collapsed": true
   },
   "outputs": [],
   "source": []
  },
  {
   "cell_type": "markdown",
   "metadata": {},
   "source": [
    "$d)$\n",
    "Benutzen Sie nun wieder den gegebenen Code und laden Sie den labor-negotations Datensatz. Versuchen Sie zunächst, die Klassen visuell durch geeignete Variablenwahl der Achsen zu trennen."
   ]
  },
  {
   "cell_type": "code",
   "execution_count": 9,
   "metadata": {
    "collapsed": true
   },
   "outputs": [],
   "source": [
    "def labor_neg_plot(x_variable, y_variable):\n",
    "    groups = labor_neg.groupby('label')\n",
    "    fig, ax = plt.subplots()\n",
    "    \n",
    "    for name, group in groups:\n",
    "        ax.plot(group[x_variable], group[y_variable], marker='o', linestyle='', ms=5, label=name)\n",
    "    ax.legend()\n",
    "\n",
    "    plt.xlabel(x_variable)\n",
    "    plt.ylabel(y_variable)\n",
    "    plt.show()"
   ]
  },
  {
   "cell_type": "code",
   "execution_count": 12,
   "metadata": {
    "scrolled": true
   },
   "outputs": [
    {
     "data": {
      "application/vnd.jupyter.widget-view+json": {
       "model_id": "0f25725bcd3b489aa8c59ee7efd317b1",
       "version_major": 2,
       "version_minor": 0
      },
      "text/plain": [
       "A Jupyter Widget"
      ]
     },
     "metadata": {},
     "output_type": "display_data"
    }
   ],
   "source": [
    "interact(labor_neg_plot, \n",
    "         x_variable=labor_neg.columns[[0, 1, 2, 3, 5, 7, 8, 10]], \n",
    "         y_variable=labor_neg.columns[[0, 1, 2, 3, 5, 7, 8, 10]]);"
   ]
  },
  {
   "cell_type": "markdown",
   "metadata": {},
   "source": [
    "Führen Sie anschließend jeweils mindestens ein Training mit einem Decision Tree, einer SVM und einem Ensemble-Classifier durch und testen Sie dabei verschiedene Einstellungen für die jeweiligen Klassifikatoren. Notieren Sie sich gegebenenfalls Auffälligkeiten."
   ]
  },
  {
   "cell_type": "code",
   "execution_count": 16,
   "metadata": {},
   "outputs": [
    {
     "ename": "IndentationError",
     "evalue": "expected an indented block (<ipython-input-16-470871433112>, line 3)",
     "output_type": "error",
     "traceback": [
      "\u001b[1;36m  File \u001b[1;32m\"<ipython-input-16-470871433112>\"\u001b[1;36m, line \u001b[1;32m3\u001b[0m\n\u001b[1;33m    plt.imshow(cm, interpolation='nearest', cmap=plt.cm.Greys)\u001b[0m\n\u001b[1;37m      ^\u001b[0m\n\u001b[1;31mIndentationError\u001b[0m\u001b[1;31m:\u001b[0m expected an indented block\n"
     ]
    }
   ],
   "source": []
  },
  {
   "cell_type": "code",
   "execution_count": null,
   "metadata": {
    "collapsed": true
   },
   "outputs": [],
   "source": []
  },
  {
   "cell_type": "code",
   "execution_count": null,
   "metadata": {
    "collapsed": true
   },
   "outputs": [],
   "source": []
  }
 ],
 "metadata": {
  "kernelspec": {
   "display_name": "Python 3",
   "language": "python",
   "name": "python3"
  },
  "language_info": {
   "codemirror_mode": {
    "name": "ipython",
    "version": 3
   },
   "file_extension": ".py",
   "mimetype": "text/x-python",
   "name": "python",
   "nbconvert_exporter": "python",
   "pygments_lexer": "ipython3",
   "version": "3.6.3"
  }
 },
 "nbformat": 4,
 "nbformat_minor": 2
}
