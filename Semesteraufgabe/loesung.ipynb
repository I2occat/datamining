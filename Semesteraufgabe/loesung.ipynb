{
 "cells": [
  {
   "cell_type": "code",
   "execution_count": 85,
   "metadata": {},
   "outputs": [
    {
     "name": "stdout",
     "output_type": "stream",
     "text": [
      "[ 0.38705163  1.81696378  3.32559569  2.61547441  1.83847476  1.01912542\n",
      "  0.          0.97488559  2.04460959  0.96794784  1.9678693   0.\n",
      "  2.82312837  3.45722454  0.9688845   0.99129148  0.97158354  1.00363139\n",
      "  2.05320958  2.62160391]\n",
      "3500\n"
     ]
    }
   ],
   "source": [
    "import numpy as np\n",
    "import pandas as pd\n",
    "import math\n",
    "import matplotlib.pyplot as plt\n",
    "import matplotlib.patches as mpatches\n",
    "import itertools\n",
    "from collections import Counter\n",
    "\n",
    "from ipywidgets import interact\n",
    "from sklearn.metrics import confusion_matrix\n",
    "from sklearn.model_selection import train_test_split\n",
    "from sklearn import tree\n",
    "from sklearn import svm\n",
    "from sklearn.ensemble import BaggingClassifier\n",
    "\n",
    "#Importieren des Datensatzes\n",
    "data = pd.read_csv('data.csv', sep=';', )\n",
    "data.rename(columns = {'class':'label'}, inplace = True)\n",
    "data = np.array(data);\n",
    "#data = data[:30,:];\n",
    "# Grundwerte\n",
    "dimension=data.shape;\n",
    "sampleCount=dimension[0];\n",
    "featureCount=dimension[1]-1;\n",
    "mue=np.empty(featureCount+1);\n",
    "for i in range(featureCount):\n",
    "    sum=0;\n",
    "    N=sampleCount;\n",
    "    for j in range(sampleCount):\n",
    "        if(isinstance(data[j,i],float)):\n",
    "            if(not math.isnan(data[j,i])):\n",
    "                sum=sum+data[j,i];\n",
    "            else:\n",
    "                N=N-1;\n",
    "    mue[i]=sum/N;\n",
    "data2=np.empty(dimension);\n",
    "for i in range(featureCount):\n",
    "    for j in range(sampleCount):\n",
    "        if(isinstance(data[j,i],float)):\n",
    "            if(not math.isnan(data[j,i])):\n",
    "                data2[j,i]=data[j,i]-mue[i]\n",
    "varianzq=np.empty(featureCount);\n",
    "\n",
    "for i in range(featureCount):\n",
    "    sum=0;\n",
    "    N=sampleCount;\n",
    "    for j in range(sampleCount):\n",
    "        if(isinstance(data2[j,i],float)):\n",
    "            if(not math.isnan(data2[j,i])):\n",
    "                sum=sum+data2[j,i]*data2[j,i];\n",
    "            else:\n",
    "                N=N-1;\n",
    "    varianzq[i]=sum/(N-1);\n",
    "    \n",
    "C=np.empty(dimesion);\n",
    "\n",
    "for i in range(featureCount):\n",
    "    s=0;\n",
    "    for j in range(sampleCount):\n",
    "        if(isinstance(data[j,i],float)):\n",
    "            if(not math.isnan(data[j,i])):\n",
    "                C[j,i]=data[j,i]-mue[i]\n",
    "print(varianzq);\n",
    "\n",
    "\n",
    "print(sampleCount)"
   ]
  },
  {
   "cell_type": "code",
   "execution_count": null,
   "metadata": {
    "collapsed": true
   },
   "outputs": [],
   "source": []
  }
 ],
 "metadata": {
  "kernelspec": {
   "display_name": "Python 3",
   "language": "python",
   "name": "python3"
  },
  "language_info": {
   "codemirror_mode": {
    "name": "ipython",
    "version": 3
   },
   "file_extension": ".py",
   "mimetype": "text/x-python",
   "name": "python",
   "nbconvert_exporter": "python",
   "pygments_lexer": "ipython3",
   "version": "3.6.3"
  }
 },
 "nbformat": 4,
 "nbformat_minor": 2
}
